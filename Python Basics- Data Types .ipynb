{
 "cells": [
  {
   "cell_type": "markdown",
   "metadata": {},
   "source": [
    "## Data Types in Python\n",
    "1. Integer\n",
    "\n",
    "2. Float\n",
    "\n",
    "3. Bool\n",
    "\n",
    "4. Strings"
   ]
  },
  {
   "cell_type": "markdown",
   "metadata": {},
   "source": [
    "## Arithematic Operators\n",
    "\n",
    "#PEDMAS - Parenthesis, exponents, division, multiplication, addition, subtraction\n",
    "\n",
    "#Hash\n",
    "\n",
    "Asterisk *\n",
    "\n",
    "+= ; x+=y ; x = x+y\n",
    "\n",
    "Six arithmetic operators : \n",
    "\n",
    "+ Addition\n",
    "\n",
    "- Subtraction\n",
    "\n",
    "* Multiplication\n",
    "\n",
    "/ Float division  \n",
    "// Integer Division\n",
    "\n",
    "% Modulus operator : Remainder is obtained as output\n",
    "\n",
    "** to the power "
   ]
  },
  {
   "cell_type": "code",
   "execution_count": 5,
   "metadata": {},
   "outputs": [
    {
     "data": {
      "text/plain": [
       "10"
      ]
     },
     "execution_count": 5,
     "metadata": {},
     "output_type": "execute_result"
    }
   ],
   "source": [
    "#Round off numbers\n",
    "round(10.23)"
   ]
  },
  {
   "cell_type": "markdown",
   "metadata": {},
   "source": [
    "Because the float, or approximation, for 0.1 is actually slightly more than 0.1, when we add several of them together \n",
    "we can see the difference between the mathematically correct answer and the one that Python creates."
   ]
  },
  {
   "cell_type": "code",
   "execution_count": 4,
   "metadata": {},
   "outputs": [
    {
     "name": "stdout",
     "output_type": "stream",
     "text": [
      "False\n"
     ]
    }
   ],
   "source": [
    "print(.1 + .1 + .1 == .3)"
   ]
  },
  {
   "cell_type": "markdown",
   "metadata": {},
   "source": [
    "## Booleans\n",
    "The bool data type holds one of the values True or False, which are often encoded as 1 or 0, respectively."
   ]
  },
  {
   "cell_type": "markdown",
   "metadata": {},
   "source": [
    "## Comparison Operators\n",
    "\n",
    "== , > , < , >= , <= , !=\n",
    "\n",
    "Letters ,words, symbols can be compared based on there ASCII values\n"
   ]
  },
  {
   "cell_type": "markdown",
   "metadata": {},
   "source": [
    "## Logical operators \n",
    "\n",
    "and - Evaluates if both sides are true\n",
    "\n",
    "or - Evaluates if atleast one side is true\n",
    "\n",
    "not - inverse a boolean type"
   ]
  },
  {
   "cell_type": "markdown",
   "metadata": {},
   "source": [
    "## Strings"
   ]
  },
  {
   "cell_type": "code",
   "execution_count": 2,
   "metadata": {},
   "outputs": [
    {
     "name": "stdout",
     "output_type": "stream",
     "text": [
      "'Hello there ! How's everyone ?'\n"
     ]
    }
   ],
   "source": [
    "string = \"'Hello there ! How\\'s everyone ?'\"\n",
    "print(string)"
   ]
  },
  {
   "cell_type": "markdown",
   "metadata": {},
   "source": [
    "####  Three ways of operating on values\n",
    "1. Operators\n",
    "\n",
    "2. Functions\n",
    "\n",
    "3. Methods"
   ]
  },
  {
   "cell_type": "markdown",
   "metadata": {},
   "source": [
    "### Arithmetic Operators on strings"
   ]
  },
  {
   "cell_type": "code",
   "execution_count": 11,
   "metadata": {},
   "outputs": [
    {
     "name": "stdout",
     "output_type": "stream",
     "text": [
      "Hello There\n",
      "Hello ThereHello ThereHello There\n"
     ]
    }
   ],
   "source": [
    "# \" \" = for creating space \n",
    "\n",
    "# Concatenate/ Combine strings\n",
    "str1 = \"Hello\"+\" \"+\"There\" \n",
    "print(str1)\n",
    "\n",
    "# Duplication/Repeat string\n",
    "print(3*str1)"
   ]
  },
  {
   "cell_type": "markdown",
   "metadata": {},
   "source": [
    "### Functions on strings\n",
    "Functions uses parentheses and accept one or more arguments.\n",
    "1. print()\n",
    "\n",
    "2. Len()\n",
    "\n",
    "3. float()\n",
    "\n",
    "4. type()"
   ]
  },
  {
   "cell_type": "code",
   "execution_count": 13,
   "metadata": {},
   "outputs": [
    {
     "data": {
      "text/plain": [
       "5"
      ]
     },
     "execution_count": 13,
     "metadata": {},
     "output_type": "execute_result"
    }
   ],
   "source": [
    "#Length of string\n",
    "str1 = \"Hello\"\n",
    "len(str1)"
   ]
  },
  {
   "cell_type": "markdown",
   "metadata": {},
   "source": [
    "### Methods in strings\n",
    "A method is a function that belongs to an object. Methods actually are functions that are called using dot notation. \n",
    "\n",
    "Methods are specific to the data type for a particular variable.\n",
    "\n",
    "Each of these methods accepts the string itself as the first argument of the method.Hence no argument is passed inside the paranthesis of a method.\n",
    "However, they also could receive additional arguments, that are passed inside the parentheses. "
   ]
  },
  {
   "cell_type": "code",
   "execution_count": 31,
   "metadata": {},
   "outputs": [
    {
     "name": "stdout",
     "output_type": "stream",
     "text": [
      "HELLO\n",
      "False\n",
      "2\n",
      "2\n",
      "3\n"
     ]
    }
   ],
   "source": [
    "str1= \"Hello\"\n",
    "print(str1.upper())\n",
    "print(str1.islower())\n",
    "print(str1.count(\"l\"))\n",
    "print(str1.find('l'))\n",
    "print(str1.rfind('l'))\n"
   ]
  },
  {
   "cell_type": "markdown",
   "metadata": {},
   "source": [
    "## Split(separator, maxseparator)\n",
    "Returns a data container called a list that contains the words from the input string"
   ]
  },
  {
   "cell_type": "code",
   "execution_count": 28,
   "metadata": {},
   "outputs": [
    {
     "name": "stdout",
     "output_type": "stream",
     "text": [
      "['My', 'name', 'is', 'hello.']\n"
     ]
    },
    {
     "data": {
      "text/plain": [
       "['My', 'name', 'is hello.']"
      ]
     },
     "execution_count": 28,
     "metadata": {},
     "output_type": "execute_result"
    }
   ],
   "source": [
    "string = \"My name is hello.\"\n",
    "print(string.split())\n",
    "string.split(None,2)"
   ]
  },
  {
   "cell_type": "markdown",
   "metadata": {},
   "source": [
    "### Stride"
   ]
  },
  {
   "cell_type": "code",
   "execution_count": 34,
   "metadata": {},
   "outputs": [
    {
     "name": "stdout",
     "output_type": "stream",
     "text": [
      "Hlo\n",
      "Hl\n"
     ]
    }
   ],
   "source": [
    "str3 = \"Hello\"\n",
    "print(str3[::2])    #Selecting every letter position multiple of 2\n",
    "print(str3[0:3:2])  #Specifying range"
   ]
  }
 ],
 "metadata": {
  "kernelspec": {
   "display_name": "Python 3",
   "language": "python",
   "name": "python3"
  },
  "language_info": {
   "codemirror_mode": {
    "name": "ipython",
    "version": 3
   },
   "file_extension": ".py",
   "mimetype": "text/x-python",
   "name": "python",
   "nbconvert_exporter": "python",
   "pygments_lexer": "ipython3",
   "version": "3.7.6"
  }
 },
 "nbformat": 4,
 "nbformat_minor": 4
}
