{
 "cells": [
  {
   "cell_type": "markdown",
   "metadata": {},
   "source": [
    "Creating File \n",
    "\n",
    "Open notepad and save file in .txt format"
   ]
  },
  {
   "cell_type": "markdown",
   "metadata": {},
   "source": [
    "## Reading file"
   ]
  },
  {
   "cell_type": "code",
   "execution_count": 8,
   "metadata": {},
   "outputs": [
    {
     "name": "stdout",
     "output_type": "stream",
     "text": [
      "Whole text has been rewritten\n",
      "\n",
      "f.txt\n",
      "r\n"
     ]
    }
   ],
   "source": [
    "f = open(\"f.txt\", \"r\")\n",
    "\n",
    "#Read content of text file in jupyter notebook\n",
    "print(f.read())\n",
    "print(f.readline())\n",
    "\n",
    "#Displays name of text file\n",
    "print(f.name)\n",
    "\n",
    "#Displays mode used to access text file \n",
    "print(f.mode)\n",
    "\n",
    "#Displays readhead of file\n",
    "f.seek()\n",
    "\n",
    "#Delets all content of the file\n",
    "f.truncate()"
   ]
  },
  {
   "cell_type": "markdown",
   "metadata": {},
   "source": [
    "## APPENDING FILE: Without affecting the text already present"
   ]
  },
  {
   "cell_type": "code",
   "execution_count": 2,
   "metadata": {},
   "outputs": [
    {
     "name": "stdout",
     "output_type": "stream",
     "text": [
      "This is stuff I typed into a file.\n",
      " It is really cool stuff.\n",
      " Lots and lots of fun to have in here.\n",
      " This is called appending the file\n"
     ]
    }
   ],
   "source": [
    "f = open(\"f.txt\", \"a\")\n",
    "f.write(\"\\n This is called appending the file\")\n",
    "f.close()\n",
    "f= open(\"f.txt\",\"r\")\n",
    "print(f.read())"
   ]
  },
  {
   "cell_type": "markdown",
   "metadata": {},
   "source": [
    "## Writing a file : already written text is rewritten"
   ]
  },
  {
   "cell_type": "code",
   "execution_count": 6,
   "metadata": {},
   "outputs": [
    {
     "name": "stdout",
     "output_type": "stream",
     "text": [
      "Whole text has been rewritten\n"
     ]
    }
   ],
   "source": [
    "f = open(\"f.txt\", \"w\")\n",
    "f.write(\"Whole text has been rewritten\")\n",
    "f.close()\n",
    "f = open(\"f.txt\",\"r\")\n",
    "print(f.read())"
   ]
  },
  {
   "cell_type": "markdown",
   "metadata": {},
   "source": [
    "## Copying file : If a does not exist, a text file will automatically be created"
   ]
  },
  {
   "cell_type": "code",
   "execution_count": 7,
   "metadata": {},
   "outputs": [
    {
     "name": "stdout",
     "output_type": "stream",
     "text": [
      "Whole text has been rewritten\n"
     ]
    }
   ],
   "source": [
    "f = open(\"f.txt\", \"r\")\n",
    "f2 = open(\"f2.txt\", \"w\")\n",
    "f2.write(f.read())\n",
    "f.close()\n",
    "f2.close()\n",
    "f2= open(\"f2.txt\",\"r\")\n",
    "print(f2.read())"
   ]
  },
  {
   "cell_type": "markdown",
   "metadata": {},
   "source": [
    "## With \n",
    "Python provides a special syntax that auto-closes a file for you once you're finished using it.\n",
    "\n",
    "This with keyword allows you to open a file, do operations on it, and automatically close it after the indented code is executed, in this case, reading from the file. Now, we don’t have to call f.close()! You can only access the file object, f, within this indented block."
   ]
  },
  {
   "cell_type": "code",
   "execution_count": null,
   "metadata": {},
   "outputs": [],
   "source": [
    "with open('my_path/my_file.txt', 'r') as f:\n",
    "    file_data = f.read()"
   ]
  }
 ],
 "metadata": {
  "kernelspec": {
   "display_name": "Python 3",
   "language": "python",
   "name": "python3"
  },
  "language_info": {
   "codemirror_mode": {
    "name": "ipython",
    "version": 3
   },
   "file_extension": ".py",
   "mimetype": "text/x-python",
   "name": "python",
   "nbconvert_exporter": "python",
   "pygments_lexer": "ipython3",
   "version": "3.7.6"
  }
 },
 "nbformat": 4,
 "nbformat_minor": 4
}
