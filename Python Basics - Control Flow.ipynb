{
 "cells": [
  {
   "cell_type": "markdown",
   "metadata": {},
   "source": [
    "# Conditional Statements\n",
    "In Python, indents conventionally come in multiples of four spaces. Indentation is important to distinguish between the code block under the condtitional statement and rest of the code . \n",
    "\n",
    "1. If\n",
    "\n",
    "   Syntax - if condition:\n",
    "            statement\n",
    "            \n",
    "   It is not mandatory to specify else statement along with if statement.\n",
    "\n",
    "2. Elif\n",
    "\n",
    "\n",
    "3. Else"
   ]
  },
  {
   "cell_type": "markdown",
   "metadata": {},
   "source": [
    "## Boolean expression for Conditions"
   ]
  },
  {
   "cell_type": "code",
   "execution_count": 4,
   "metadata": {},
   "outputs": [
    {
     "name": "stdout",
     "output_type": "stream",
     "text": [
      "True\n"
     ]
    }
   ],
   "source": [
    "str = \"hello\"\n",
    "x = str.islower()\n",
    "if x:\n",
    "    print(\"True\")\n",
    "else:\n",
    "    print('False')"
   ]
  },
  {
   "cell_type": "markdown",
   "metadata": {},
   "source": [
    "## Truth Value Testing\n",
    "If we use a non-boolean object as a condition in an if statement in place of the boolean expression, Python will check for its truth value and use that to decide whether or not to run the indented code. By default, the truth value of an object in Python is considered True unless specified as False in the documentation.\n",
    "\n",
    "Here are most of the built-in objects that are considered False in Python:\n",
    "\n",
    "1. constants defined to be false: None and False\n",
    "\n",
    "2. zero of any numeric type: 0, 0.0, 0j, Decimal(0), Fraction(0, 1)\n",
    "\n",
    "3. empty sequences and collections: '\"\", (), [], {}, set(), range(0)"
   ]
  },
  {
   "cell_type": "markdown",
   "metadata": {},
   "source": [
    "## Range(start, stop, step)\n",
    "Immutable sequence of numbers. You will frequently use range() with a for loop to repeat an action a certain number of times.\n",
    "\n",
    "If not specified : start = 0 and step = 1\n",
    "\n",
    "range(y)        y = stop\n",
    "\n",
    "range(x,y)      x= start y = stop  \n",
    "\n",
    "range(x,y,z)    x= start y = stop z= step"
   ]
  },
  {
   "cell_type": "markdown",
   "metadata": {},
   "source": [
    "# Loops\n",
    "\n",
    "1. For loop\n",
    "\n",
    "\n",
    "2. While Loop"
   ]
  },
  {
   "cell_type": "markdown",
   "metadata": {},
   "source": [
    "## For Loop\n",
    "A for loop is used to \"iterate\", or do something repeatedly, over an iterable. An iterable is an object that can return one of its elements at a time. This can include sequence types, such as strings, lists, and tuples, as well as non-sequence types, such as dictionaries and files.\n",
    "\n",
    "Used when the number of repetations of a code to be executed is known.\n",
    "\n",
    "Syntax : for iteration_variable in iterable:\n"
   ]
  },
  {
   "cell_type": "markdown",
   "metadata": {},
   "source": [
    "### For loop - Creating, modifying and extracting lists  "
   ]
  },
  {
   "cell_type": "code",
   "execution_count": 1,
   "metadata": {},
   "outputs": [
    {
     "name": "stdout",
     "output_type": "stream",
     "text": [
      "1\n",
      "2\n",
      "3\n",
      "4\n",
      "Completed\n"
     ]
    }
   ],
   "source": [
    "#Extract elements from list\n",
    "numbers = [1,2,3,4]\n",
    "for number in numbers:\n",
    "    print(number)\n",
    "    \n",
    "print('Completed')"
   ]
  },
  {
   "cell_type": "code",
   "execution_count": 2,
   "metadata": {},
   "outputs": [
    {
     "name": "stdout",
     "output_type": "stream",
     "text": [
      "[1, 2, 3, 4, 5]\n"
     ]
    }
   ],
   "source": [
    "#Creating a new list\n",
    "numbers = [1,2,3,4,5]\n",
    "num = []\n",
    "for number in numbers:\n",
    "    num.append(number)\n",
    "    \n",
    "print(num)"
   ]
  },
  {
   "cell_type": "code",
   "execution_count": 3,
   "metadata": {},
   "outputs": [
    {
     "name": "stdout",
     "output_type": "stream",
     "text": [
      "[3, 4, 5, 6, 7]\n"
     ]
    }
   ],
   "source": [
    "#Modifiying the list\n",
    "num = [1,2,3,4,5]\n",
    "for i in range(len(num)):\n",
    "    num[i]= num[i] + 2\n",
    "    \n",
    "print(num)"
   ]
  },
  {
   "cell_type": "markdown",
   "metadata": {},
   "source": [
    "### Building dictionaries"
   ]
  },
  {
   "cell_type": "code",
   "execution_count": 4,
   "metadata": {},
   "outputs": [
    {
     "name": "stdout",
     "output_type": "stream",
     "text": [
      "{'a': 1, 'b': 1, 'c': 1, 'd': 2}\n"
     ]
    }
   ],
   "source": [
    "#Using FOR loop\n",
    "list_of_strings = ['a','b','c','d','d']\n",
    "counter = {}\n",
    "for string in list_of_strings:\n",
    "    if string not in counter:\n",
    "        counter[string]=1\n",
    "    elif string in counter:\n",
    "        counter[string] += 1\n",
    "        \n",
    "print(counter)"
   ]
  },
  {
   "cell_type": "code",
   "execution_count": 5,
   "metadata": {},
   "outputs": [
    {
     "name": "stdout",
     "output_type": "stream",
     "text": [
      "{'a': 1, 'b': 1, 'c': 1, 'd': 2}\n"
     ]
    }
   ],
   "source": [
    "#Using get method\n",
    "list_of_strings = ['a','b','c','d','d']\n",
    "counter = {}\n",
    "for string in list_of_strings:\n",
    "    counter[string]=counter.get(string,0) + 1\n",
    "    \n",
    "print(counter)"
   ]
  },
  {
   "cell_type": "markdown",
   "metadata": {},
   "source": [
    "### Iterating through dictionaries"
   ]
  },
  {
   "cell_type": "code",
   "execution_count": 7,
   "metadata": {},
   "outputs": [
    {
     "name": "stdout",
     "output_type": "stream",
     "text": [
      "a\n",
      "b\n",
      "c\n",
      "d\n",
      "5\n"
     ]
    }
   ],
   "source": [
    "total_value = 0\n",
    "dictionary = {'a': 1, 'b': 1, 'c': 1, 'd': 2}\n",
    "for key in dictionary:\n",
    "    print(key)\n",
    "    \n",
    "for key ,value in dictionary.items():\n",
    "    total_value += value\n",
    "    \n",
    "print(total_value)"
   ]
  },
  {
   "cell_type": "markdown",
   "metadata": {},
   "source": [
    "## While Loop\n",
    "\"indefinite iteration\" which is when a loop repeats an unknown number of times and ends when some condition is met. \n",
    "\n",
    "If the condition for the while loop is true, the code lines in the loop's body will be executed. We then go back to the while heading line, and the condition is evaluated again. This process of checking the condition and then executing the loop repeats until the condition becomes false.\n",
    "\n",
    "The indented body of the loop should modify at least one variable in the test condition. If the value of the test condition never changes, the result is an infinite loop!\n",
    "\n",
    "Syntax - while condition :"
   ]
  },
  {
   "cell_type": "markdown",
   "metadata": {},
   "source": [
    "### Loop Control Statements - deviate the loop from its normal sequence\n",
    "\n",
    "\n",
    "1. Break - terminates a loop\n",
    "\n",
    "2. Continue - skips one iteration of a loop\n",
    "\n",
    "3. Pass - Filler statement that just pass the execution to next statement without doing anything"
   ]
  },
  {
   "cell_type": "markdown",
   "metadata": {},
   "source": [
    "### Zip and Enumerate\n",
    "\n",
    "1. Zip returns an iterator that combines multiple iterables into one sequence of tuples. Each tuple contains the elements in that position from all the iterables.\n",
    "\n",
    "2. Enumerate\n",
    "enumerate is a built in function that returns an iterator of tuples containing indices and values of a list. You'll often use this when you want the index along with each element of an iterable in a loop."
   ]
  },
  {
   "cell_type": "code",
   "execution_count": 5,
   "metadata": {},
   "outputs": [
    {
     "name": "stdout",
     "output_type": "stream",
     "text": [
      "[('a', 1), ('b', 2), ('c', 3)]\n",
      "('a', 'b', 'c') (1, 2, 3)\n"
     ]
    }
   ],
   "source": [
    "#Zipping two lists together\n",
    "letters = ['a', 'b', 'c']\n",
    "nums = [1, 2, 3]\n",
    "zipped = list(zip(letters,nums))\n",
    "print(zipped)\n",
    "\n",
    "#Unzipping\n",
    "letters, nums = zip(*zipped) \n",
    "print(letters, nums)"
   ]
  },
  {
   "cell_type": "code",
   "execution_count": 6,
   "metadata": {},
   "outputs": [
    {
     "name": "stdout",
     "output_type": "stream",
     "text": [
      "0 a\n",
      "1 b\n",
      "2 c\n"
     ]
    }
   ],
   "source": [
    "#Enumerate\n",
    "letters = ['a', 'b', 'c']\n",
    "for index, letter in enumerate(letters):\n",
    "    print(index,letter)"
   ]
  },
  {
   "cell_type": "markdown",
   "metadata": {},
   "source": [
    "### List Comprehensions\n",
    "List comprehensions allow us to create a list using a for loop in one step."
   ]
  },
  {
   "cell_type": "code",
   "execution_count": 12,
   "metadata": {},
   "outputs": [
    {
     "name": "stdout",
     "output_type": "stream",
     "text": [
      "[3, 4, 5]\n"
     ]
    }
   ],
   "source": [
    "# Using for loop\n",
    "lists = [1,2,3]\n",
    "new_lists =[]\n",
    "for i in range(len(lists)):\n",
    "    new_lists.append(lists[i] + 2)\n",
    "    \n",
    "print(new_lists)"
   ]
  },
  {
   "cell_type": "code",
   "execution_count": 15,
   "metadata": {},
   "outputs": [
    {
     "name": "stdout",
     "output_type": "stream",
     "text": [
      "[3, 4, 5]\n"
     ]
    }
   ],
   "source": [
    "#Using list comprehensions\n",
    "lists = [1,2,3]\n",
    "new_lists = [lists[i] + 2 for i in range(len(lists))]\n",
    "print(new_lists)"
   ]
  },
  {
   "cell_type": "markdown",
   "metadata": {},
   "source": [
    "### Conditionals in List Comprehensions"
   ]
  },
  {
   "cell_type": "code",
   "execution_count": 16,
   "metadata": {},
   "outputs": [],
   "source": [
    "squares = [x**2 for x in range(9) if x % 2 == 0]"
   ]
  },
  {
   "cell_type": "code",
   "execution_count": null,
   "metadata": {},
   "outputs": [],
   "source": [
    "squares = [x**2 if x % 2 == 0 else x + 3 for x in range(9)]"
   ]
  }
 ],
 "metadata": {
  "kernelspec": {
   "display_name": "Python 3",
   "language": "python",
   "name": "python3"
  },
  "language_info": {
   "codemirror_mode": {
    "name": "ipython",
    "version": 3
   },
   "file_extension": ".py",
   "mimetype": "text/x-python",
   "name": "python",
   "nbconvert_exporter": "python",
   "pygments_lexer": "ipython3",
   "version": "3.7.6"
  }
 },
 "nbformat": 4,
 "nbformat_minor": 4
}
