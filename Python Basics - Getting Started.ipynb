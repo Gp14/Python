{
 "cells": [
  {
   "cell_type": "markdown",
   "metadata": {},
   "source": [
    "## Python is a INTERPRETER LANGUAGE \n",
    "Limit each code line to 80 characters."
   ]
  },
  {
   "cell_type": "markdown",
   "metadata": {},
   "source": [
    "## Python code executed line by line"
   ]
  },
  {
   "cell_type": "code",
   "execution_count": 3,
   "metadata": {},
   "outputs": [
    {
     "name": "stdout",
     "output_type": "stream",
     "text": [
      "10\n"
     ]
    }
   ],
   "source": [
    "cat = 5\n",
    "add = 5 + cat\n",
    "print(add)\n",
    "cat = 6"
   ]
  },
  {
   "cell_type": "markdown",
   "metadata": {},
   "source": [
    "## PRINT SYNTAX"
   ]
  },
  {
   "cell_type": "code",
   "execution_count": 5,
   "metadata": {},
   "outputs": [
    {
     "name": "stdout",
     "output_type": "stream",
     "text": [
      "Hello\n",
      "5\n",
      "Hello 31 5\n",
      "True\n"
     ]
    }
   ],
   "source": [
    "print(\"Hello\")\n",
    "print(5)\n",
    "print(\"Hello\",25+6,5)\n",
    "print(5 > -2)"
   ]
  },
  {
   "cell_type": "markdown",
   "metadata": {},
   "source": [
    "## Print syntax to print multiple lines"
   ]
  },
  {
   "cell_type": "code",
   "execution_count": 6,
   "metadata": {},
   "outputs": [
    {
     "name": "stdout",
     "output_type": "stream",
     "text": [
      "\n",
      "dfg\n",
      "dsf\n",
      "sfsf\n",
      "52\n",
      "\n"
     ]
    }
   ],
   "source": [
    "print(\"\"\"\n",
    "dfg\n",
    "dsf\n",
    "sfsf\n",
    "52\n",
    "\"\"\")"
   ]
  },
  {
   "cell_type": "markdown",
   "metadata": {},
   "source": [
    "## GETTING INPUT IN PYTHON"
   ]
  },
  {
   "cell_type": "code",
   "execution_count": 3,
   "metadata": {},
   "outputs": [
    {
     "name": "stdout",
     "output_type": "stream",
     "text": [
      "25\n",
      "Age 25\n",
      "Age25\n"
     ]
    }
   ],
   "source": [
    "inputstring = input()\n",
    "\n",
    "age = input(\"Age \")\n",
    "\n",
    "agge = int(input('Age'))"
   ]
  },
  {
   "cell_type": "markdown",
   "metadata": {},
   "source": [
    "## PLACEHOLDER IN STRINGS %s"
   ]
  },
  {
   "cell_type": "code",
   "execution_count": 7,
   "metadata": {},
   "outputs": [
    {
     "name": "stdout",
     "output_type": "stream",
     "text": [
      "Hello\n",
      "Hello, Hello\n",
      "Hello, Hello\n"
     ]
    }
   ],
   "source": [
    "str1 = input(\"\")\n",
    "print (\"Hello, %s\"%(str1))\n",
    "print(\"Hello,\",str1)"
   ]
  },
  {
   "cell_type": "markdown",
   "metadata": {},
   "source": [
    "## PLACEHOLDER IN NUMBERS %d"
   ]
  },
  {
   "cell_type": "code",
   "execution_count": 8,
   "metadata": {},
   "outputs": [
    {
     "name": "stdout",
     "output_type": "stream",
     "text": [
      "Value is 8\n",
      "Value of x is 8 and y is 5\n",
      "Value of x+y+z is 22\n"
     ]
    }
   ],
   "source": [
    "x = 8\n",
    "y = 5\n",
    "z = 9\n",
    "print(\"Value is %d\"%x)\n",
    "print(\"Value of x is %d and y is %d\"%(x,y))\n",
    "print(\"Value of x+y+z is %d\"%(x+y+z))"
   ]
  },
  {
   "cell_type": "markdown",
   "metadata": {},
   "source": [
    "## Placeholder for print whatever it is(no need to specify datatype)\n",
    "%r - It is best for debugging. It displayes raw data"
   ]
  },
  {
   "cell_type": "code",
   "execution_count": 9,
   "metadata": {},
   "outputs": [
    {
     "name": "stdout",
     "output_type": "stream",
     "text": [
      "5 'kite'\n",
      "5 kite\n"
     ]
    }
   ],
   "source": [
    "x= 5\n",
    "y = \"kite\"\n",
    "print(\"%r %r\"%(x,y))\n",
    "print(\"%d %s\"%(x,y))"
   ]
  },
  {
   "cell_type": "markdown",
   "metadata": {},
   "source": [
    "## Escape Sequences"
   ]
  },
  {
   "cell_type": "code",
   "execution_count": 5,
   "metadata": {},
   "outputs": [
    {
     "name": "stdout",
     "output_type": "stream",
     "text": [
      "Hell\\o\n",
      "\thello\n"
     ]
    }
   ],
   "source": [
    "text = \"Hell\\\\o\\n\\thello\"\n",
    "print(text)"
   ]
  },
  {
   "cell_type": "markdown",
   "metadata": {},
   "source": [
    "## ASSIGNING VARIABLES and MULTIPLE ASSIGNMENTS\n",
    "Snake Case - The pythonic way to name variables is to use all lowercase letters and underscores to separate words.(As we tend to connect words through underscore)"
   ]
  },
  {
   "cell_type": "code",
   "execution_count": 6,
   "metadata": {},
   "outputs": [
    {
     "name": "stdout",
     "output_type": "stream",
     "text": [
      "15 Hello\n",
      "15\n",
      "18 18\n"
     ]
    }
   ],
   "source": [
    "number1 = 15\n",
    "number, text = 15 , \"Hello\"\n",
    "num1 = num2 = 18\n",
    "print(number,text)\n",
    "print(number)\n",
    "print(num1,num2)"
   ]
  },
  {
   "cell_type": "markdown",
   "metadata": {},
   "source": [
    "## Finding the data type of variable"
   ]
  },
  {
   "cell_type": "code",
   "execution_count": 7,
   "metadata": {},
   "outputs": [
    {
     "name": "stdout",
     "output_type": "stream",
     "text": [
      "<class 'str'> <class 'int'> <class 'float'>\n",
      "1 1.0 1.5\n"
     ]
    }
   ],
   "source": [
    "var1,var2,var3 = \"Hello\",15,15.5\n",
    "print(type(var1),type(var2),type(var3))"
   ]
  },
  {
   "cell_type": "markdown",
   "metadata": {},
   "source": [
    "## TYPECASTING : converting an object from one data typle to another"
   ]
  },
  {
   "cell_type": "code",
   "execution_count": 1,
   "metadata": {},
   "outputs": [
    {
     "name": "stdout",
     "output_type": "stream",
     "text": [
      "1 1.0 1.5\n"
     ]
    }
   ],
   "source": [
    "print(int(\"1\"),float(1),str(1.5))"
   ]
  },
  {
   "cell_type": "markdown",
   "metadata": {},
   "source": [
    "## Format()"
   ]
  },
  {
   "cell_type": "code",
   "execution_count": 3,
   "metadata": {},
   "outputs": [
    {
     "name": "stdout",
     "output_type": "stream",
     "text": [
      "My name and age is: Hello , 50\n"
     ]
    }
   ],
   "source": [
    "string = \"My name and age is: {} , {}\"\n",
    "var = string.format(\"Hello\",50)\n",
    "print(var)"
   ]
  }
 ],
 "metadata": {
  "kernelspec": {
   "display_name": "Python 3",
   "language": "python",
   "name": "python3"
  },
  "language_info": {
   "codemirror_mode": {
    "name": "ipython",
    "version": 3
   },
   "file_extension": ".py",
   "mimetype": "text/x-python",
   "name": "python",
   "nbconvert_exporter": "python",
   "pygments_lexer": "ipython3",
   "version": "3.7.6"
  }
 },
 "nbformat": 4,
 "nbformat_minor": 4
}
