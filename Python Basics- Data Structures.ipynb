{
 "cells": [
  {
   "cell_type": "markdown",
   "metadata": {},
   "source": [
    "# Data Structures in Python\n",
    "Data structures are containers that organize and group data types together in different ways.\n",
    "\n",
    "1. Lists\n",
    "\n",
    "2. Tuples\n",
    "\n",
    "3. Sets\n",
    "\n",
    "4. Dictionaries\n",
    "\n",
    "5. Compound data structures"
   ]
  },
  {
   "cell_type": "markdown",
   "metadata": {},
   "source": [
    "# Lists - Mutable ordered sequence of elements"
   ]
  },
  {
   "cell_type": "code",
   "execution_count": 1,
   "metadata": {},
   "outputs": [
    {
     "name": "stdout",
     "output_type": "stream",
     "text": [
      "3\n",
      "4\n"
     ]
    }
   ],
   "source": [
    "lists = [1,2,3,4]\n",
    "\n",
    "print(lists[2])           #Finding element in array according to index number\n",
    "print(lists[-1])          #Negative Indexing\n"
   ]
  },
  {
   "cell_type": "markdown",
   "metadata": {},
   "source": [
    "### 1. Slicing and dicing"
   ]
  },
  {
   "cell_type": "code",
   "execution_count": 2,
   "metadata": {},
   "outputs": [
    {
     "name": "stdout",
     "output_type": "stream",
     "text": [
      "[1, 2, 3]\n",
      "[1, 2, 3]\n",
      "[3, 4, 5, 6]\n"
     ]
    }
   ],
   "source": [
    "lists = [1,2,3,4,5,6]\n",
    "print(lists[:3])\n",
    "print(lists[0:3])\n",
    "print(lists[2:])"
   ]
  },
  {
   "cell_type": "markdown",
   "metadata": {},
   "source": [
    "### 2.  Membership Operators\n",
    "1. in - evaluates if object on left side is includedin objecct on right side\n",
    "\n",
    "2. not in"
   ]
  },
  {
   "cell_type": "code",
   "execution_count": 3,
   "metadata": {},
   "outputs": [
    {
     "name": "stdout",
     "output_type": "stream",
     "text": [
      "True True\n"
     ]
    }
   ],
   "source": [
    "lists = [\"monday\",'tuesday']\n",
    "print('monday' in lists,'sunday' not in lists)"
   ]
  },
  {
   "cell_type": "markdown",
   "metadata": {},
   "source": [
    "### 3. Mutable"
   ]
  },
  {
   "cell_type": "code",
   "execution_count": 28,
   "metadata": {},
   "outputs": [
    {
     "name": "stdout",
     "output_type": "stream",
     "text": [
      "['Sunday', 'tuesday']\n",
      "['Sunday', 'tuesday', 'Monday']\n",
      "['Sunday', 'tuesday']\n",
      "['Sunday']\n"
     ]
    }
   ],
   "source": [
    "lists = [\"monday\",'tuesday']\n",
    "\n",
    "# Replacing element\n",
    "lists[0]= 'Sunday'               \n",
    "print(lists)\n",
    "\n",
    "#Adding element\n",
    "lists.append('Monday')\n",
    "print(lists)\n",
    "\n",
    "#Remove element \n",
    "lists.pop()\n",
    "print(lists)\n",
    "\n",
    "#Deleting element\n",
    "del lists[1]\n",
    "print(lists)"
   ]
  },
  {
   "cell_type": "markdown",
   "metadata": {},
   "source": [
    "### 4. Clonning a list :keep the original and create a new duplicate"
   ]
  },
  {
   "cell_type": "code",
   "execution_count": 9,
   "metadata": {},
   "outputs": [
    {
     "name": "stdout",
     "output_type": "stream",
     "text": [
      "[1, 2, 3]\n"
     ]
    }
   ],
   "source": [
    "lists = [1,2,3]\n",
    "new_list = lists[:]             \n",
    "print(new_list)"
   ]
  },
  {
   "cell_type": "markdown",
   "metadata": {},
   "source": [
    "### 5. Funtions for lists\n",
    "1. len()\n",
    "\n",
    "2. max()\n",
    "\n",
    "3. min()\n",
    "\n",
    "4. sorted()\n",
    "   \n",
    "5. Sorted(list-name, reverse = True)\n",
    "\n",
    "6. sum()"
   ]
  },
  {
   "cell_type": "markdown",
   "metadata": {},
   "source": [
    "#### Join \n",
    "Join is a string method that takes a list of strings as an argument, and returns a string consisting of the list elements joined by a separator string."
   ]
  },
  {
   "cell_type": "code",
   "execution_count": 17,
   "metadata": {},
   "outputs": [
    {
     "name": "stdout",
     "output_type": "stream",
     "text": [
      "fore5aft\n"
     ]
    }
   ],
   "source": [
    "str = [\"fore\", \"aft\", \"starboard\", \"port\"]\n",
    "new_str = \"5\".join(str[0:2])\n",
    "\n",
    "print(new_str)"
   ]
  },
  {
   "cell_type": "markdown",
   "metadata": {},
   "source": [
    "### Lists v/s strings\n",
    "\n",
    "There are two things to keep in mind for each of the data types you are using:\n",
    "\n",
    "Are they mutable?\n",
    "Are they ordered?\n",
    "\n",
    "Order is about whether the position of an element in the object can be used to access the element. Both strings and lists are ordered. We can use the order to access parts of a list and string.\n",
    "\n",
    "Mutability is about whether or not we can change an object once it has been created. If an object (like a list or string) can be changed (like a list can), then it is called mutable. However, if an object cannot be changed with creating a completely new object (like strings), then the object is considered immutable."
   ]
  },
  {
   "cell_type": "markdown",
   "metadata": {},
   "source": [
    "# Tuples - Immutable ordered sequence of elements"
   ]
  },
  {
   "cell_type": "code",
   "execution_count": 22,
   "metadata": {},
   "outputs": [
    {
     "name": "stdout",
     "output_type": "stream",
     "text": [
      "(1, 2, 3)\n",
      "True\n"
     ]
    }
   ],
   "source": [
    "tuples = (1,2,3)\n",
    "tuples1 = 1,2,3\n",
    "print(tuples)\n",
    "print(tuples == tuples1)"
   ]
  },
  {
   "cell_type": "markdown",
   "metadata": {},
   "source": [
    "### 1. Unpacking of tuples\n",
    "Assign information from a tuple into multiple variables without having to access them one by one."
   ]
  },
  {
   "cell_type": "code",
   "execution_count": 20,
   "metadata": {},
   "outputs": [
    {
     "name": "stdout",
     "output_type": "stream",
     "text": [
      "10 15 16\n"
     ]
    }
   ],
   "source": [
    "dimensions = 10, 15, 16\n",
    "l , h , w = dimensions\n",
    "print(l,h,w)"
   ]
  },
  {
   "cell_type": "markdown",
   "metadata": {},
   "source": [
    "# Sets - mutable unordered collections of unique elements.\n",
    "One application of a set is to quickly remove duplicates from a list."
   ]
  },
  {
   "cell_type": "code",
   "execution_count": 34,
   "metadata": {},
   "outputs": [
    {
     "name": "stdout",
     "output_type": "stream",
     "text": [
      "{8, 1, 2, 5}\n",
      "{1, 2, 5, 8, 10}\n"
     ]
    }
   ],
   "source": [
    "# Converting lists to set\n",
    "lists = [1,2,1,5,5,8]\n",
    "sets = set(lists)\n",
    "print(sets)\n",
    "\n",
    "#Add element\n",
    "sets.add(10)\n",
    "print(sets)"
   ]
  },
  {
   "cell_type": "markdown",
   "metadata": {},
   "source": [
    "### Pop() - Removes random element from set"
   ]
  },
  {
   "cell_type": "code",
   "execution_count": 29,
   "metadata": {},
   "outputs": [
    {
     "name": "stdout",
     "output_type": "stream",
     "text": [
      "{1, 2, 5}\n"
     ]
    }
   ],
   "source": [
    "lists = [1,2,1,5,5,8]\n",
    "sets = set(lists)\n",
    "sets.pop()\n",
    "print(sets)"
   ]
  },
  {
   "cell_type": "markdown",
   "metadata": {},
   "source": [
    "### Remove() - Removes a specific element from set"
   ]
  },
  {
   "cell_type": "code",
   "execution_count": 33,
   "metadata": {},
   "outputs": [
    {
     "name": "stdout",
     "output_type": "stream",
     "text": [
      "{1, 2, 5}\n"
     ]
    }
   ],
   "source": [
    "lists = [1,2,1,5,5,8]\n",
    "sets = set(lists)\n",
    "sets.remove(8)\n",
    "print(sets)"
   ]
  },
  {
   "cell_type": "markdown",
   "metadata": {},
   "source": [
    "### Intersection between sets"
   ]
  },
  {
   "cell_type": "code",
   "execution_count": 36,
   "metadata": {},
   "outputs": [
    {
     "name": "stdout",
     "output_type": "stream",
     "text": [
      "{1, 3, 5, 6, 7, 8, 9}\n",
      "{1, 6}\n",
      "False\n",
      "False\n"
     ]
    }
   ],
   "source": [
    "list1 =[1,1,5,6,8,9]\n",
    "set1 = set(list1)\n",
    "\n",
    "list2 =[1,6,7,3]\n",
    "set2 = set(list2)\n",
    "\n",
    "print(set1.union(set2))\n",
    "print(set1.intersection(set2))\n",
    "print(set1.issubset(set2))\n",
    "print(set1.issuperset(set2))"
   ]
  },
  {
   "cell_type": "markdown",
   "metadata": {},
   "source": [
    "# Dictionaries - mutable unordered data type that stores mappings of unique keys to values\n",
    "\n",
    "dictionaries = {\"key\":value,\"key\":value,  }\n",
    "\n",
    "Dictionaries can have keys of any immutable type, like integers or tuples, not just strings. It's not even necessary for every key to have the same type"
   ]
  },
  {
   "cell_type": "code",
   "execution_count": 44,
   "metadata": {},
   "outputs": [
    {
     "name": "stdout",
     "output_type": "stream",
     "text": [
      "1\n",
      "4\n",
      "{'hydrogen': 4, 'helium': 2, 'carbon': 6, 'oxygen': 16, 'nitogen': 15}\n"
     ]
    }
   ],
   "source": [
    "elements = {\"hydrogen\": 1, \"helium\": 2, \"carbon\": 6}\n",
    "\n",
    "#Finding value from key\n",
    "print(elements['hydrogen'])\n",
    "\n",
    "#Updating value for a given key\n",
    "elements['hydrogen'] = 4\n",
    "print(elements['hydrogen'])\n",
    "               \n",
    "#Appending dictionary\n",
    "elements['oxygen'] = 16\n",
    "\n",
    "elements1 = {'nitogen':15}\n",
    "elements.update(elements1)\n",
    "print(elements)"
   ]
  },
  {
   "cell_type": "markdown",
   "metadata": {},
   "source": [
    "### Displaying values and keys"
   ]
  },
  {
   "cell_type": "code",
   "execution_count": 51,
   "metadata": {},
   "outputs": [
    {
     "name": "stdout",
     "output_type": "stream",
     "text": [
      "dict_values([1, 2, 6])\n",
      "dict_keys(['hydrogen', 'helium', 'carbon'])\n",
      "dict_items([('hydrogen', 1), ('helium', 2), ('carbon', 6)])\n"
     ]
    }
   ],
   "source": [
    "elements = {\"hydrogen\": 1, \"helium\": 2, \"carbon\": 6}\n",
    "\n",
    "#Displays values separately\n",
    "print(elements.values())\n",
    "\n",
    "#Displays keys separately\n",
    "print(elements.keys())\n",
    "\n",
    "#Displays values and keys as pairs\n",
    "print(elements.items())"
   ]
  },
  {
   "cell_type": "markdown",
   "metadata": {},
   "source": [
    "### Getting values from dictionaries\n",
    "It either returns null or default value of your choice"
   ]
  },
  {
   "cell_type": "code",
   "execution_count": 45,
   "metadata": {},
   "outputs": [
    {
     "name": "stdout",
     "output_type": "stream",
     "text": [
      "None\n",
      "Does not exist\n"
     ]
    }
   ],
   "source": [
    "dictionary = {1:'a',2:'b'}\n",
    "x = dictionary.get(3)\n",
    "print (\"%s\"%x)\n",
    "\n",
    "x = dictionary.get(3,'Does not exist')\n",
    "print (\"%s\"%x)"
   ]
  },
  {
   "cell_type": "markdown",
   "metadata": {},
   "source": [
    "### Identitiy Operators\n",
    "\n",
    "1. is -  evaluates if both sides have same identity\n",
    "\n",
    "2. is not"
   ]
  },
  {
   "cell_type": "code",
   "execution_count": 49,
   "metadata": {},
   "outputs": [
    {
     "name": "stdout",
     "output_type": "stream",
     "text": [
      "True\n",
      "False\n",
      "{'hydrogen': 1, 'helium': 2, 'carbon': 6}\n"
     ]
    }
   ],
   "source": [
    "elements = {\"hydrogen\": 1, \"helium\": 2, \"carbon\": 6}\n",
    "n = elements.get(\"dilithium\")\n",
    "print(n is None)\n",
    "print(n is not None)"
   ]
  },
  {
   "cell_type": "markdown",
   "metadata": {},
   "source": [
    "### Delete operations"
   ]
  },
  {
   "cell_type": "code",
   "execution_count": 46,
   "metadata": {},
   "outputs": [
    {
     "name": "stdout",
     "output_type": "stream",
     "text": [
      "{'hydrogen': 1, 'helium': 2}\n"
     ]
    }
   ],
   "source": [
    "elements = {\"hydrogen\": 1, \"helium\": 2, \"carbon\": 6}\n",
    "\n",
    "#Deleting individual key and value\n",
    "del elements['carbon']\n",
    "print(elements)\n",
    "\n",
    "#Clears all data in dictionary\n",
    "elements.clear()\n",
    "\n",
    "#Delets the dictionary\n",
    "del elements    "
   ]
  },
  {
   "cell_type": "markdown",
   "metadata": {},
   "source": [
    "# Compound data structures - Nested Dictionary"
   ]
  },
  {
   "cell_type": "code",
   "execution_count": 53,
   "metadata": {},
   "outputs": [
    {
     "name": "stdout",
     "output_type": "stream",
     "text": [
      "{'hydrogen': {'number': 1, 'weight': 1.00794, 'symbol': 'H'}, 'helium': {'number': 2, 'weight': 4.002602, 'symbol': 'He'}, 'oxygen': {'number': 8, 'weight': 15.999, 'symbol': 'O'}}\n"
     ]
    }
   ],
   "source": [
    "elements = {\"hydrogen\": {\"number\": 1,\n",
    "                         \"weight\": 1.00794,\n",
    "                         \"symbol\": \"H\"},\n",
    "              \"helium\": {\"number\": 2,\n",
    "                         \"weight\": 4.002602,\n",
    "                         \"symbol\": \"He\"}}\n",
    "\n",
    "helium = elements[\"helium\"]  # get the helium dictionary\n",
    "hydrogen_weight = elements[\"hydrogen\"][\"weight\"]  # get hydrogen's weight\n",
    "\n",
    "elements[\"oxygen\"] = {\"number\":8,\"weight\":15.999,\"symbol\":\"O\"}  \n",
    "print(elements)"
   ]
  },
  {
   "cell_type": "code",
   "execution_count": null,
   "metadata": {},
   "outputs": [],
   "source": []
  },
  {
   "cell_type": "code",
   "execution_count": null,
   "metadata": {},
   "outputs": [],
   "source": []
  },
  {
   "cell_type": "code",
   "execution_count": null,
   "metadata": {},
   "outputs": [],
   "source": []
  }
 ],
 "metadata": {
  "kernelspec": {
   "display_name": "Python 3",
   "language": "python",
   "name": "python3"
  },
  "language_info": {
   "codemirror_mode": {
    "name": "ipython",
    "version": 3
   },
   "file_extension": ".py",
   "mimetype": "text/x-python",
   "name": "python",
   "nbconvert_exporter": "python",
   "pygments_lexer": "ipython3",
   "version": "3.7.6"
  }
 },
 "nbformat": 4,
 "nbformat_minor": 4
}
